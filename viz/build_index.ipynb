{
 "cells": [
  {
   "cell_type": "code",
   "execution_count": 1,
   "id": "fba6b049-7d64-4056-9e87-ab302e01424a",
   "metadata": {},
   "outputs": [
    {
     "data": {
      "text/html": [
       "<pre style=\"white-space:pre;overflow-x:auto;line-height:normal;font-family:Menlo,'DejaVu Sans Mono',consolas,'Courier New',monospace\">Loading tokenizer<span style=\"color: #808000; text-decoration-color: #808000\">...</span>\n",
       "</pre>\n"
      ],
      "text/plain": [
       "Loading tokenizer\u001b[33m...\u001b[0m\n"
      ]
     },
     "metadata": {},
     "output_type": "display_data"
    },
    {
     "data": {
      "text/html": [
       "<pre style=\"white-space:pre;overflow-x:auto;line-height:normal;font-family:Menlo,'DejaVu Sans Mono',consolas,'Courier New',monospace\">Loading model<span style=\"color: #808000; text-decoration-color: #808000\">...</span>\n",
       "</pre>\n"
      ],
      "text/plain": [
       "Loading model\u001b[33m...\u001b[0m\n"
      ]
     },
     "metadata": {},
     "output_type": "display_data"
    },
    {
     "name": "stderr",
     "output_type": "stream",
     "text": [
      "WARNING:datasets.builder:Found cached dataset json (/root/.cache/huggingface/datasets/json/default-850713833a81658c/0.0.0/e347ab1c932092252e717ff3f949105a4dd28b27e842dd53157d2f72e276c2e4)\n",
      "WARNING:datasets.builder:Found cached dataset json (/root/.cache/huggingface/datasets/json/default-42ccb9511b844e66/0.0.0/e347ab1c932092252e717ff3f949105a4dd28b27e842dd53157d2f72e276c2e4)\n"
     ]
    }
   ],
   "source": [
    "import os\n",
    "import faiss\n",
    "import tqdm\n",
    "import json\n",
    "import numpy as np\n",
    "from utils import extract_features_single, load_pca, create_model_and_tokenizer\n",
    "\n",
    "from datasets import load_dataset\n",
    "\n",
    "model_name = \"sentence-transformers/all-MiniLM-L6-v2\"\n",
    "model, tokenizer = create_model_and_tokenizer(model_name)\n",
    "model = model.cuda()\n",
    "\n",
    "query_data = load_dataset('json', data_files='./lm-eval-train.jsonl', split='train')\n",
    "\n",
    "data = load_dataset('json', data_files='/root/data/wiki_en.jsonl', split='train')\n"
   ]
  },
  {
   "cell_type": "code",
   "execution_count": 2,
   "id": "c8f06b2f-2685-487a-abca-12ba92054b6b",
   "metadata": {},
   "outputs": [],
   "source": [
    "vecs = np.load(f'./features/sentence-transformers/all-MiniLM-L6-v2/wiki_en.npy')"
   ]
  },
  {
   "cell_type": "code",
   "execution_count": 3,
   "id": "ba0887e6-df8c-4f7a-9eef-6674eec6afe4",
   "metadata": {},
   "outputs": [],
   "source": [
    "def build_index(\n",
    "    xb: np.ndarray,\n",
    "    d: int = None,\n",
    "):\n",
    "    if d is None:\n",
    "        d = xb.shape[-1]\n",
    "    res = faiss.StandardGpuResources()\n",
    "    index = faiss.index_factory(d, \"IVF100,PQ8\")\n",
    "    # Sample 1_000_000 vectors to train the index.\n",
    "    # xt = xb[np.random.choice(xb.shape[0], 1000_000, replace=False)]\n",
    "    xt = xb\n",
    "    index.train(xt)\n",
    "    # index.add(xb)\n",
    "    return index\n",
    "\n",
    "def add_to_index(\n",
    "    xb,\n",
    "    index,\n",
    "):\n",
    "    index.add(xb)\n",
    "    return index"
   ]
  },
  {
   "cell_type": "code",
   "execution_count": 4,
   "id": "6bf22e98-2175-4289-aadd-94ef3d571730",
   "metadata": {},
   "outputs": [],
   "source": [
    "def search(queries, k=100):\n",
    "    features = extract_features_single(queries, model, tokenizer)\n",
    "    _, ids = index.search(features, k=k)\n",
    "    return [data[int(i)] for i in ids[0]]"
   ]
  },
  {
   "cell_type": "code",
   "execution_count": 5,
   "id": "a51372f3-aee8-4b96-bd53-1ee1a245e9c3",
   "metadata": {},
   "outputs": [],
   "source": [
    "index = build_index(vecs)"
   ]
  },
  {
   "cell_type": "code",
   "execution_count": 6,
   "id": "616dc861-4371-46d6-99e1-0da4317f905f",
   "metadata": {},
   "outputs": [],
   "source": [
    "index = add_to_index(vecs, index)"
   ]
  },
  {
   "cell_type": "code",
   "execution_count": null,
   "id": "9da46602-b7be-43b6-a215-3e6e38e743e6",
   "metadata": {},
   "outputs": [
    {
     "name": "stderr",
     "output_type": "stream",
     "text": [
      "  6%|████████                                                                                                                                | 4704/79195 [01:52<27:31, 45.12it/s]Token indices sequence length is longer than the specified maximum sequence length for this model (1024 > 512). Running this sequence through the model will result in indexing errors\n",
      " 16%|█████████████████████▊                                                                                                                 | 12825/79195 [05:05<24:25, 45.30it/s]"
     ]
    }
   ],
   "source": [
    "with open(f'/root/ft_data/lm_aug_wiki_all.jsonl', 'w') as f:\n",
    "    for query in tqdm.tqdm(query_data):\n",
    "        items = search(query['text'])\n",
    "        for rank, item in enumerate(items):\n",
    "            item['meta']['augment'] = {\n",
    "                'rank': rank,\n",
    "                'query_meta': query['meta'],\n",
    "            }\n",
    "            item['meta'].pop('timestamp')\n",
    "            f.write(json.dumps(item) + '\\n')"
   ]
  },
  {
   "cell_type": "code",
   "execution_count": null,
   "id": "743f772c-ccbf-4c5a-beca-ee835353da62",
   "metadata": {},
   "outputs": [],
   "source": [
    "exit()"
   ]
  },
  {
   "cell_type": "code",
   "execution_count": null,
   "id": "cf15600c-590f-410a-85ac-7b8ac28be836",
   "metadata": {},
   "outputs": [],
   "source": []
  }
 ],
 "metadata": {
  "kernelspec": {
   "display_name": "Python 3 (ipykernel)",
   "language": "python",
   "name": "python3"
  },
  "language_info": {
   "codemirror_mode": {
    "name": "ipython",
    "version": 3
   },
   "file_extension": ".py",
   "mimetype": "text/x-python",
   "name": "python",
   "nbconvert_exporter": "python",
   "pygments_lexer": "ipython3",
   "version": "3.10.11"
  }
 },
 "nbformat": 4,
 "nbformat_minor": 5
}
